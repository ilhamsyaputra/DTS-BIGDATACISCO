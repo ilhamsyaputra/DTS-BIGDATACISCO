# https://edube.org/sandbox/e98805fa-f05f-11eb-b73e-0242157e55ca
def is_year_leap(year):
    if year % 4 != 0:
        status = False
    elif year % 100 != 0:
        status = True
    elif year % 400 != 0:
        status = False
    else:
        status = True
        
    return status


def days_in_month(year, month):
    if (is_year_leap(year) == True and month == 2):
        num_of_days = 29
    elif month == 2:
        num_of_days = 28
    elif (month == 1 or month == 3 or month == 5 or month == 7 or month == 8 or month == 10 or month == 12):
        num_of_days = 31
    else:
        num_of_days = 30
        
    return num_of_days


# https://artofmemory.com/blog/how-to-calculate-the-day-of-the-week/
def year_code(year):
    # calculation for year code
    last_two_of_year = int(str(year)[-2:])
    year_code = (last_two_of_year + (last_two_of_year // 4)) % 7

    # calculation for century code
    if 1700 < year < 1800:
        century_code = 4
    elif 1800 < year < 1900:
        century_code = 2
    elif 1900 < year < 2000:
        century_code = 0
    elif 2000 < year < 2100:
        century_code = 6
    elif 2100 < year < 2200:
        century_code = 4
    elif 2200 < year < 2300:
        century_code = 2
    elif year < 2300:
        century_code = 0
    
    return year_code, century_code


def months_code(month):
    # function to define months code by the given month
    months = ['Jan', 'Feb', 'Mar', 'Apr', 'May', 'Jun', 'Jul', 'Aug', 'Sep', 'Oct', 'Nov', 'Dec']

    given_month = months[month-1]

    months = {
        'Jan': 0,
        'Feb': 3,
        'Mar': 3,
        'Apr': 6,
        'May': 1,
        'Jun': 4,
        'Jul': 6,
        'Aug': 2,
        'Sep': 5,
        'Oct': 0,
        'Nov': 3,
        'Dec': 5
    }

    return months[given_month]


def day_of_year(year, month, day):
    # formula (Year Code + Month Code + Century Code + Date Number - Leap Year Code) mod 7

    # inisiasi days
    days = ['Sunday', 'Monday', 'Tuesday', 'Wednesday', 'Thursday', 'Friday', 'Saturday']
    
    # variable years_code and century code as return of year_code() function
    years_code, century_code = year_code(year)

    calc = (years_code + months_code(month) + century_code + day - is_year_leap(year)) % 7

    return days[calc]


print(day_of_year(1999, 6, 25))
