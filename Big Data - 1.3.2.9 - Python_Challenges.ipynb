{
 "cells": [
  {
   "cell_type": "markdown",
   "id": "ebb23e25-fb56-4294-9cca-ba9a20ae598b",
   "metadata": {
    "tags": []
   },
   "source": [
    "# Lab - Take the Python Challenge\n",
    "This is an optional exercise to test your understanding of Python basics. However, we strongly suggest the student to complete these exercises to prepare yourself for the rest of this course. If you don't know how to solve them, look into the Python Lectures available in the Course Materials/Tutorials and Demos folder.\n",
    "\n",
    "**Answer the questions or complete the tasks outlined below, use the specific method described if applicable.**"
   ]
  },
  {
   "cell_type": "markdown",
   "id": "5fe271d5-1e9f-408c-9831-20cf273afba0",
   "metadata": {},
   "source": [
    "**1) What is 3 to the power of 5?**"
   ]
  },
  {
   "cell_type": "code",
   "execution_count": 1,
   "id": "7376f80d-8105-450d-8ede-2853b15226bc",
   "metadata": {},
   "outputs": [
    {
     "data": {
      "text/plain": [
       "243.0"
      ]
     },
     "execution_count": 1,
     "metadata": {},
     "output_type": "execute_result"
    }
   ],
   "source": [
    "from math import pow\n",
    "\n",
    "pow(3, 5)"
   ]
  },
  {
   "cell_type": "markdown",
   "id": "974881ce-e645-4bb7-9a00-ca9ea56d5261",
   "metadata": {},
   "source": [
    "**2) Create a variable, s, containing the string \"This course is amazing!\". Using the variable, split the string into a list.**"
   ]
  },
  {
   "cell_type": "code",
   "execution_count": 2,
   "id": "126ec41f-7e81-4c15-a264-ebf2bd3187f5",
   "metadata": {},
   "outputs": [
    {
     "data": {
      "text/plain": [
       "['Tis', 'course', 'is', 'amazing']"
      ]
     },
     "execution_count": 2,
     "metadata": {},
     "output_type": "execute_result"
    }
   ],
   "source": [
    "s = 'Tis course is amazing'\n",
    "s.split()"
   ]
  },
  {
   "cell_type": "markdown",
   "id": "1a276f58-44d4-4ddd-82cd-87ad0f16a520",
   "metadata": {},
   "source": [
    "**3) Given the variables height and mountain, use .format() to print the following string:**  \n",
    "`The height of Mt. Everest is 8848 meters.`"
   ]
  },
  {
   "cell_type": "code",
   "execution_count": 3,
   "id": "3df099a0-db30-48ca-84e1-f160578780a7",
   "metadata": {},
   "outputs": [
    {
     "name": "stdout",
     "output_type": "stream",
     "text": [
      "The height of Mt. Everest is 8848 meters\n"
     ]
    }
   ],
   "source": [
    "print('The height of Mt. {mountain} is {height} meters'.format(mountain = 'Everest', height = 8848))"
   ]
  },
  {
   "cell_type": "code",
   "execution_count": 4,
   "id": "b2ee0700-5e39-431c-ba31-51a34a8938f3",
   "metadata": {},
   "outputs": [
    {
     "name": "stdout",
     "output_type": "stream",
     "text": [
      "The height of Mt. Mt. Everest is 8848 meters\n"
     ]
    }
   ],
   "source": [
    "mountain = 'Mt. Everest'\n",
    "height = 8848\n",
    "print('The height of Mt. {} is {} meters'.format(mountain, height))"
   ]
  },
  {
   "cell_type": "markdown",
   "id": "a3d28986-b226-48a3-8d93-7256606260f0",
   "metadata": {},
   "source": [
    "**4) Given the following nested list, use indexing to grab the word \"this\".**  \n",
    "`d = {'k1':['val1','val2','val3',{'we':['need','to','go',{'deeper':[1,2,3,'that']}]}]}`"
   ]
  },
  {
   "cell_type": "code",
   "execution_count": 10,
   "id": "41e479a0-e407-4733-9597-23eefd575bb9",
   "metadata": {},
   "outputs": [
    {
     "data": {
      "text/plain": [
       "'that'"
      ]
     },
     "execution_count": 10,
     "metadata": {},
     "output_type": "execute_result"
    }
   ],
   "source": [
    "d = {\n",
    "    'k1':[\n",
    "        'val1',\n",
    "        'val2',\n",
    "        'val3',\n",
    "        {\n",
    "            'we': [\n",
    "                'need',\n",
    "                'to',\n",
    "                'go',\n",
    "                {\n",
    "                    'deeper':[1,2,3,'that']\n",
    "                }\n",
    "            ]\n",
    "        }\n",
    "    ]\n",
    "}\n",
    "\n",
    "d['k1'][3]['we'][3]['deeper'][3]"
   ]
  },
  {
   "cell_type": "markdown",
   "id": "a63d15eb-56cf-4ae2-a67d-34daf20d0242",
   "metadata": {},
   "source": [
    "**6) What is the main difference between a tuple and a list?**  \n",
    "my answer = tuple is immutable sequential data types, list is mutable sequential data types"
   ]
  },
  {
   "cell_type": "markdown",
   "id": "bccf5caa-f750-4633-b263-0cbfc7e5d746",
   "metadata": {},
   "source": [
    "**7) Create a function, GetDomain(), that grabs the email website domain from a string in the form: user@domain.com.**  \n",
    "So for example, passing \"user@domain.com\" would return: domain.com"
   ]
  },
  {
   "cell_type": "code",
   "execution_count": 11,
   "id": "4c621c5e-deff-4f6f-945f-1e9bafbd453c",
   "metadata": {},
   "outputs": [
    {
     "data": {
      "text/plain": [
       "'domain.com'"
      ]
     },
     "execution_count": 11,
     "metadata": {},
     "output_type": "execute_result"
    }
   ],
   "source": [
    "def GetDomain(email='user@domain.com'):\n",
    "    return email.split('@')[1]\n",
    "\n",
    "GetDomain()"
   ]
  },
  {
   "cell_type": "code",
   "execution_count": 12,
   "id": "f1282c4c-d329-4db1-93d8-0a61378fdea2",
   "metadata": {},
   "outputs": [
    {
     "data": {
      "text/plain": [
       "'gmail.com'"
      ]
     },
     "execution_count": 12,
     "metadata": {},
     "output_type": "execute_result"
    }
   ],
   "source": [
    "GetDomain('ilhamsyaputra25@gmail.com')"
   ]
  },
  {
   "cell_type": "markdown",
   "id": "435aca6c-1d5a-4bd8-8caf-6c70f7609b4b",
   "metadata": {},
   "source": [
    "**8) Create a basic function, findInternet(), that returns True if the word 'Internet' is contained in the input string. Don't worry about edge cases like punctuation being attached to the word, but account for capitalization. (Hint: Please see https://docs.python.org/2/reference/expressions.html#in)**  \n",
    "```\n",
    "# Code cell 7\n",
    "#def findInternet(?):\n",
    "    #return 'internet' in ?.lower().split()\n",
    "findInternet('The Internet Engineering Task Force was created in 1986')\n",
    "```"
   ]
  },
  {
   "cell_type": "code",
   "execution_count": 15,
   "id": "412c88d5-5a56-4387-94cc-a6228fd4b8a3",
   "metadata": {},
   "outputs": [
    {
     "name": "stdout",
     "output_type": "stream",
     "text": [
      "True\n",
      "False\n"
     ]
    }
   ],
   "source": [
    "def findInternet(inputstring):\n",
    "    if 'internet' in inputstring.lower():\n",
    "        return True\n",
    "    return False\n",
    "\n",
    "print(findInternet('The Internet Engineering Task Force was created in 1986'))\n",
    "print(findInternet('The creator of Python is Guido van Rossum'))"
   ]
  },
  {
   "cell_type": "markdown",
   "id": "054f31dc-a0cd-4035-9129-351f7b85f8ff",
   "metadata": {},
   "source": [
    "**9) Create a function, countIoT(), that counts the number of times the word \"IoT\" occurs in a string. Ignore edge cases but take into account capitalization.**  \n",
    "```\n",
    "# Code cell 8\n",
    "#def countIoT(st):\n",
    "#    \n",
    "#\n",
    "#\n",
    "#\n",
    "#    return count\n",
    "countIoT('I don\\'t know how to spell IoT ! Is it IoT or iot ? What does iot mean anyway?')\n",
    "```"
   ]
  },
  {
   "cell_type": "code",
   "execution_count": 20,
   "id": "77b9a69d-d2c6-4daa-9f1c-32b67a564bc3",
   "metadata": {},
   "outputs": [
    {
     "name": "stdout",
     "output_type": "stream",
     "text": [
      "4\n",
      "the string doesn't contain 'IoT'\n"
     ]
    }
   ],
   "source": [
    "def countIoT(str):\n",
    "    count = 0\n",
    "    if 'iot' in str.lower():\n",
    "        str_list = (\n",
    "            str\n",
    "            .lower()\n",
    "            .split(' ')\n",
    "        )\n",
    "        for i in str_list:\n",
    "            if i == 'iot':\n",
    "                count += 1\n",
    "        return count\n",
    "    else:\n",
    "        return 'the string doesn\\'t contain \\'IoT\\''\n",
    "        \n",
    "print(countIoT('I don\\'t know how to spell IoT ! Is it IoT or iot ? What does iot mean anyway?'))\n",
    "print(countIoT('Test for no i o t word'))"
   ]
  },
  {
   "cell_type": "markdown",
   "id": "55263329-f00c-44fb-9e63-b182c5e48c83",
   "metadata": {},
   "source": [
    "**10) Use lambda expressions and the filter() function to filter out words from a list that do not start with the letter 'd'. For example:**  \n",
    "`seq = ['data','salt' ,'dairy','cat', 'dog']`\n",
    "\n",
    "should be filtered down to:\n",
    "\n",
    "`['data', 'dairy', 'dog']`"
   ]
  },
  {
   "cell_type": "code",
   "execution_count": 21,
   "id": "2d528c80-5cc6-429e-af63-e6f8695a7543",
   "metadata": {},
   "outputs": [
    {
     "name": "stdout",
     "output_type": "stream",
     "text": [
      "['data', 'dairy', 'dog']\n"
     ]
    }
   ],
   "source": [
    "seq = ['data', 'salt', 'dairy', 'cat', 'dog']\n",
    "\n",
    "print(list(filter(lambda x: x.startswith('d'), seq)))"
   ]
  },
  {
   "cell_type": "markdown",
   "id": "f0bfb46f-114a-44e0-bcb7-cc81b2846502",
   "metadata": {},
   "source": [
    "**11) Use lambda expressions and the map() function to convert a list of words to upper case. For example:**  \n",
    "`seq = ['data','salt' ,'dairy','cat', 'dog']`\n",
    "\n",
    "should become:\n",
    "\n",
    "`['DATA', 'SALT', 'DAIRY', 'CAT', 'DOG']`"
   ]
  },
  {
   "cell_type": "code",
   "execution_count": 22,
   "id": "8da2cf0a-258a-456f-b118-2397041f2061",
   "metadata": {},
   "outputs": [
    {
     "name": "stdout",
     "output_type": "stream",
     "text": [
      "['DATA', 'SALT', 'DAIRY', 'CAT', 'DOG']\n"
     ]
    }
   ],
   "source": [
    "seq = ['data', 'salt', 'dairy', 'cat', 'dog']\n",
    "print(list(map(lambda x: x.upper(), seq)))"
   ]
  },
  {
   "cell_type": "markdown",
   "id": "f1aef136-189a-4fa0-af0c-fda6e344d8eb",
   "metadata": {},
   "source": [
    "**12) Imagine a smart thermostat that is connected to the door, so that it can detect, in addition to the temperature, when people enter or leave the house.**  \n",
    "Write a function that, if the temperature is lower than 20 degrees Celsius, and there are people in the house (encoded as a boolean value to be passed as a parameter to the function), turns on the heating by returning the string \"Heating on\". When the temperature reaches 23 degrees or there are no people in the house, it returns the string \"Heating off\". When none of these conditions are met, the function returns \"Do nothing\".\n",
    "\n",
    "```\n",
    "# Code cell 11\n",
    "#def smart_thermostat(temp, people_in):\n",
    "#    ...\n",
    "#    return command\n",
    "```\n",
    "\n",
    "```\n",
    "# Code cell 12\n",
    "# Verify smart_thermostat()\n",
    "smart_thermostat(21,True)\n",
    "```\n",
    "\n",
    "```\n",
    "# Code cell 13\n",
    "# Verify smart_thermostat()\n",
    "smart_thermostat(21,False)\n",
    "```"
   ]
  },
  {
   "cell_type": "code",
   "execution_count": 23,
   "id": "0740ca78-8a0c-481e-bbe3-e9c46e71875d",
   "metadata": {},
   "outputs": [],
   "source": [
    "def smart_thermostat(temp, people_in):\n",
    "    if temp < 20 and people_in == True:\n",
    "        return 'Heating on'\n",
    "    elif temp >= 23 or people_in == False:\n",
    "        return 'Heating off'\n",
    "    else:\n",
    "        return 'Do nothing'"
   ]
  },
  {
   "cell_type": "code",
   "execution_count": 24,
   "id": "2afd87d4-0397-4912-ae14-edaa8389df14",
   "metadata": {},
   "outputs": [
    {
     "data": {
      "text/plain": [
       "'Do nothing'"
      ]
     },
     "execution_count": 24,
     "metadata": {},
     "output_type": "execute_result"
    }
   ],
   "source": [
    "smart_thermostat(21,True)"
   ]
  },
  {
   "cell_type": "code",
   "execution_count": 25,
   "id": "e1d7809a-eabf-450d-9d71-191fb5d0e583",
   "metadata": {},
   "outputs": [
    {
     "data": {
      "text/plain": [
       "'Heating off'"
      ]
     },
     "execution_count": 25,
     "metadata": {},
     "output_type": "execute_result"
    }
   ],
   "source": [
    "smart_thermostat(21,False)"
   ]
  },
  {
   "cell_type": "markdown",
   "id": "d267f05d-83f5-417b-a845-dfb664d97d14",
   "metadata": {},
   "source": [
    "**13) The function zip(list1, list2) returns a list of tuples, where the i-th tuple contains the i-th element from each of the argument lists. Use the zip function to create the following list of tuples:**  \n",
    "`zipped = [('Parking', -1), ('Shops',0), ('Food Court',1), ('Offices',2)]`\n",
    "\n",
    "```\n",
    "# Code cell 14\n",
    "floor_types = ['Parking', 'Shops', 'Food Court', 'Offices']\n",
    "floor_numbers = range(-1,3)\n",
    "#zipped = list(...) \n",
    "print(zipped)\n",
    "```"
   ]
  },
  {
   "cell_type": "code",
   "execution_count": 26,
   "id": "715dea29-8ced-4d7a-a61d-211a0acba9e8",
   "metadata": {},
   "outputs": [
    {
     "name": "stdout",
     "output_type": "stream",
     "text": [
      "[('Parking', -1), ('Shops', 0), ('Food Court', 1), ('Offices', 2)]\n"
     ]
    }
   ],
   "source": [
    "floor_types = ['Parking', 'Shops', 'Food Court', 'Offices']\n",
    "floor_numbers = range(-1,3)\n",
    "zipped = list(zip(floor_types, floor_numbers)) \n",
    "print(zipped)"
   ]
  },
  {
   "cell_type": "markdown",
   "id": "3a5d5eaa-72b2-4d90-9117-90de2b004bc3",
   "metadata": {},
   "source": [
    "**14) Use the zip function and dict() to create a dictionary, elevator_dict, where the keys are the floor types and the values are the corresponding floor number so that:**  \n",
    "`elevator_dict[-1] = 'Parking'`\n",
    "\n",
    "```\n",
    "# Code cell 15\n",
    "floor_types = ['Parking', 'Shops', 'Food Court', 'Offices']\n",
    "floors_numbers = range(-1,3)\n",
    "#elevator_dict = dict(...)\n",
    "print(elevator_dict)\n",
    "```\n",
    "\n",
    "```\n",
    "# Code cell 16\n",
    "# Verify elevator_dict[-1]\n",
    "elevator_dict[-1]\n",
    "```"
   ]
  },
  {
   "cell_type": "code",
   "execution_count": 27,
   "id": "783c6b78-3b70-4bb8-a8a6-e975b8b2363b",
   "metadata": {},
   "outputs": [
    {
     "name": "stdout",
     "output_type": "stream",
     "text": [
      "{-1: 'Parking', 0: 'Shops', 1: 'Food Court', 2: 'Offices'}\n"
     ]
    }
   ],
   "source": [
    "floor_types = ['Parking', 'Shops', 'Food Court', 'Offices']\n",
    "floors_numbers = range(-1,3)\n",
    "elevator_dict = dict(zip(floors_numbers, floor_types))\n",
    "print(elevator_dict)"
   ]
  },
  {
   "cell_type": "code",
   "execution_count": 28,
   "id": "a996f342-5676-4f6e-bb23-a40a534d4f0a",
   "metadata": {},
   "outputs": [
    {
     "data": {
      "text/plain": [
       "'Parking'"
      ]
     },
     "execution_count": 28,
     "metadata": {},
     "output_type": "execute_result"
    }
   ],
   "source": [
    "elevator_dict[-1]"
   ]
  },
  {
   "cell_type": "markdown",
   "id": "e83e3730-090d-42ec-9395-9ddb625b6743",
   "metadata": {},
   "source": [
    "**15) Create an Elevator class. The constructor accepts the list of strings floor_types and the list of integers floor_numbers. The class implemets the methods 'ask_which_floor' and 'go_to_floor'. The output of this methods should look as follows:**\n",
    "\n",
    "```\n",
    "floor_types = ['Parking', 'Shops', 'Food Court', 'Offices'] \n",
    "\n",
    "floors_numbers = range(-1,4)\n",
    "\n",
    "el = Elevator(floor_numbers, floor_types)\n",
    "\n",
    "el.go_to_floor(1)\n",
    "\n",
    "Going to Food Court floor!\n",
    "\n",
    "el.go_to_floor(-2)\n",
    "\n",
    "There is floor number -2 in this building.\n",
    "\n",
    "el.ask_which_floor('Offices')\n",
    "\n",
    "The floor Offices is the number: 2\n",
    "\n",
    "el.ask_which_floor('Swimming Pool')\n",
    "\n",
    "There is no Swimming Pool floor in this building.\n",
    "```\n",
    "\n",
    "```\n",
    "# Code cell 17\n",
    "class Elevator:\n",
    "    \n",
    "    def __init__(self, floor_numbers, floor_types):\n",
    "        self._floor_numbers = floor_numbers\n",
    "        self._floor_types = floor_types\n",
    "        self._number_to_type_dict = dict(zip(floor_numbers, floor_types)) \n",
    "        self._type_to_number_dict = dict(zip(floor_types, floor_numbers)) \n",
    "        \n",
    "    def ask_which_floor(self, floor_type):    \n",
    "        if floor_type in self._floor_types:\n",
    "            print('The {} floor is the number: {}.'.format(floor_type, self._type_to_number_dict[floor_type]))\n",
    "        else:\n",
    "            print('There is no {} floor in this building.'.format(floor_type))\n",
    "    \n",
    "    #def go_to_floor(self, floor_number):\n",
    "```\n",
    "\n",
    "```\n",
    "# Verify code cell 18\n",
    "el = Elevator(floor_numbers, floor_types)\n",
    "el.go_to_floor(1)\n",
    "```\n",
    "\n",
    "```\n",
    "# Verify code cell 19\n",
    "el.go_to_floor(-2)\n",
    "```\n",
    "\n",
    "```\n",
    "# Verify code cell 20\n",
    "el.ask_which_floor('Offices')\n",
    "```\n",
    "\n",
    "```\n",
    "# Verify code cell 21\n",
    "el.ask_which_floor('Swimming Pool')\n",
    "```"
   ]
  },
  {
   "cell_type": "code",
   "execution_count": 29,
   "id": "39054289-41aa-4fce-a70e-9a7ac2cfa481",
   "metadata": {},
   "outputs": [],
   "source": [
    "class Elevator:\n",
    "    def __init__(self, floor_numbers, floor_types):\n",
    "        self._floor_numbers = floor_numbers\n",
    "        self._floor_types = floor_types\n",
    "        self._number_to_type_dict = dict(zip(floor_numbers, floor_types)) \n",
    "        self._type_to_number_dict = dict(zip(floor_types, floor_numbers)) \n",
    "        \n",
    "    def ask_which_floor(self, floor_type):    \n",
    "        if floor_type in self._floor_types:\n",
    "            print('The {} floor is the number: {}.'.format(floor_type, self._type_to_number_dict[floor_type]))\n",
    "        else:\n",
    "            print('There is no {} floor in this building.'.format(floor_type))\n",
    "    \n",
    "    def go_to_floor(self, floor_number):\n",
    "        if floor_number in self._floor_numbers:\n",
    "            return 'Going to %s floor' % (self._number_to_type_dict[floor_number])\n",
    "        return 'There is no floor number %s in this building.' % (floor_number)"
   ]
  },
  {
   "cell_type": "code",
   "execution_count": 30,
   "id": "8cf6af08-ce80-4cf1-ad6b-bc3f9c1def56",
   "metadata": {},
   "outputs": [
    {
     "data": {
      "text/plain": [
       "'Going to Food Court floor'"
      ]
     },
     "execution_count": 30,
     "metadata": {},
     "output_type": "execute_result"
    }
   ],
   "source": [
    "floor_types = ['Parking', 'Shops', 'Food Court', 'Offices'] \n",
    "floors_numbers = range(-1,4)\n",
    "el = Elevator(floor_numbers, floor_types)\n",
    "\n",
    "el.go_to_floor(1)"
   ]
  },
  {
   "cell_type": "code",
   "execution_count": 31,
   "id": "c481a5ee-63e3-4839-93cc-2870840f8287",
   "metadata": {},
   "outputs": [
    {
     "data": {
      "text/plain": [
       "'There is no floor number -2 in this building.'"
      ]
     },
     "execution_count": 31,
     "metadata": {},
     "output_type": "execute_result"
    }
   ],
   "source": [
    "el.go_to_floor(-2)"
   ]
  },
  {
   "cell_type": "code",
   "execution_count": 32,
   "id": "7de4d03b-60fa-46fe-8cb0-8a17635bbb76",
   "metadata": {},
   "outputs": [
    {
     "name": "stdout",
     "output_type": "stream",
     "text": [
      "The Offices floor is the number: 2.\n"
     ]
    }
   ],
   "source": [
    "el.ask_which_floor('Offices')"
   ]
  },
  {
   "cell_type": "code",
   "execution_count": 33,
   "id": "8923bbe4-8f96-4143-aa5d-f1d6a2609a47",
   "metadata": {},
   "outputs": [
    {
     "name": "stdout",
     "output_type": "stream",
     "text": [
      "There is no Swimming Pool floor in this building.\n"
     ]
    }
   ],
   "source": [
    "el.ask_which_floor('Swimming Pool')"
   ]
  },
  {
   "cell_type": "code",
   "execution_count": null,
   "id": "d0e698b2-d009-44f7-92e4-bf5005839d76",
   "metadata": {},
   "outputs": [],
   "source": []
  }
 ],
 "metadata": {
  "kernelspec": {
   "display_name": "Python 3",
   "language": "python",
   "name": "python3"
  },
  "language_info": {
   "codemirror_mode": {
    "name": "ipython",
    "version": 3
   },
   "file_extension": ".py",
   "mimetype": "text/x-python",
   "name": "python",
   "nbconvert_exporter": "python",
   "pygments_lexer": "ipython3",
   "version": "3.8.5"
  }
 },
 "nbformat": 4,
 "nbformat_minor": 5
}
